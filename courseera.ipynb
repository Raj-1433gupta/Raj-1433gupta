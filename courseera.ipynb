{
 "cells": [
  {
   "cell_type": "markdown",
   "id": "1a8a8fce",
   "metadata": {},
   "source": [
    "Data Science Tools and Ecosystem"
   ]
  },
  {
   "cell_type": "code",
   "execution_count": null,
   "id": "8a74f5bf",
   "metadata": {},
   "outputs": [],
   "source": []
  },
  {
   "cell_type": "code",
   "execution_count": null,
   "id": "f45d82aa",
   "metadata": {},
   "outputs": [],
   "source": [
    "# exercise 3"
   ]
  },
  {
   "cell_type": "markdown",
   "id": "d08819ec",
   "metadata": {},
   "source": [
    "In this notebook, we provide a comprehensive overview of the tools and ecosystem in the field of Data Science.\n"
   ]
  },
  {
   "cell_type": "code",
   "execution_count": 3,
   "id": "3f25985c",
   "metadata": {},
   "outputs": [],
   "source": [
    "# exercise 4 \n"
   ]
  },
  {
   "cell_type": "markdown",
   "id": "c5b5d82e",
   "metadata": {},
   "source": [
    "Some of the popular languages that Data Scientists use are:\n",
    "\n",
    "1. Python\n",
    "2. R\n",
    "3. SQL\n",
    "4. Julia\n"
   ]
  },
  {
   "cell_type": "code",
   "execution_count": 4,
   "id": "4d5f1f21",
   "metadata": {},
   "outputs": [],
   "source": [
    "# exercise 5 "
   ]
  },
  {
   "cell_type": "markdown",
   "id": "f5255aad",
   "metadata": {},
   "source": [
    "Some of the commonly libraries used by Data Scientists include:\n",
    "\n",
    "1. NumPy\n",
    "2. Pandas\n",
    "3. Matplotlib\n",
    "4. Scikit-learn\n",
    "5. Plotly\n",
    "6. Seaborn"
   ]
  },
  {
   "cell_type": "code",
   "execution_count": null,
   "id": "bd5ec871",
   "metadata": {},
   "outputs": [],
   "source": [
    "# exercise 6 "
   ]
  },
  {
   "cell_type": "markdown",
   "id": "e99830e2",
   "metadata": {},
   "source": [
    "# Data Science Tools "
   ]
  },
  {
   "cell_type": "code",
   "execution_count": null,
   "id": "335ae551",
   "metadata": {},
   "outputs": [],
   "source": [
    "| Data Science Tools |\n",
    "|--------------------|\n",
    "| Jupyter Notebooks  |\n",
    "| RStudio            |\n",
    "| VS Code            |\n"
   ]
  },
  {
   "cell_type": "markdown",
   "id": "e71d2690",
   "metadata": {},
   "source": [
    " Exercise 7 -  introducing arithmetic expression examples\n",
    "\n"
   ]
  },
  {
   "cell_type": "markdown",
   "id": "6d23edd9",
   "metadata": {},
   "source": [
    "\n",
    "\n",
    "\n",
    "### Below are a few examples of evaluating arithmetic expressions in Python.\n",
    "\n",
    "\n",
    "5+3 = 8 \n",
    "5*3 = 15\n",
    "5-3 = 2 \n",
    "5/3 = 1.666\n",
    "\n"
   ]
  },
  {
   "cell_type": "code",
   "execution_count": 1,
   "id": "d61ca567",
   "metadata": {},
   "outputs": [],
   "source": [
    " Exercise : 8 "
   ]
  },
  {
   "cell_type": "code",
   "execution_count": 2,
   "id": "f112919d",
   "metadata": {},
   "outputs": [
    {
     "name": "stdout",
     "output_type": "stream",
     "text": [
      "17\n"
     ]
    }
   ],
   "source": [
    "# This is a simple arithmetic expression to multiply then add integers.\n",
    "\n",
    "result = (3 * 4) + 5\n",
    "print(result)\n"
   ]
  },
  {
   "cell_type": "code",
   "execution_count": 3,
   "id": "aa92d158",
   "metadata": {},
   "outputs": [],
   "source": [
    "# Exercise 9 "
   ]
  },
  {
   "cell_type": "code",
   "execution_count": 4,
   "id": "7adeb856",
   "metadata": {},
   "outputs": [
    {
     "name": "stdout",
     "output_type": "stream",
     "text": [
      "3.3333333333333335\n"
     ]
    }
   ],
   "source": [
    "# This will convert 200 minutes to hours by dividing by 60.\n",
    "minutes = 200\n",
    "hours = minutes / 60\n",
    "print(hours)\n"
   ]
  },
  {
   "cell_type": "code",
   "execution_count": 5,
   "id": "9b832b92",
   "metadata": {},
   "outputs": [],
   "source": [
    "# Exercise 10 "
   ]
  },
  {
   "cell_type": "code",
   "execution_count": 8,
   "id": "64bee836",
   "metadata": {},
   "outputs": [],
   "source": [
    "# Objectives:\n",
    "\n",
    "# - List popular languages for Data Science.\n",
    "# - Introduce commonly used libraries in data science.\n",
    "# - Provide examples of arithmetic expressions in Python.\n",
    "# - Demonstrate conversion of minutes to hours.\n"
   ]
  },
  {
   "cell_type": "code",
   "execution_count": 9,
   "id": "fe35a9b8",
   "metadata": {},
   "outputs": [],
   "source": [
    "# Exercise 11 "
   ]
  },
  {
   "cell_type": "markdown",
   "id": "56a05490",
   "metadata": {},
   "source": [
    "## Author "
   ]
  },
  {
   "cell_type": "code",
   "execution_count": null,
   "id": "e762a92f",
   "metadata": {},
   "outputs": [],
   "source": [
    "Raj Guptaa"
   ]
  }
 ],
 "metadata": {
  "kernelspec": {
   "display_name": "Python 3 (ipykernel)",
   "language": "python",
   "name": "python3"
  },
  "language_info": {
   "codemirror_mode": {
    "name": "ipython",
    "version": 3
   },
   "file_extension": ".py",
   "mimetype": "text/x-python",
   "name": "python",
   "nbconvert_exporter": "python",
   "pygments_lexer": "ipython3",
   "version": "3.11.5"
  }
 },
 "nbformat": 4,
 "nbformat_minor": 5
}
